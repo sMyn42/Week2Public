{
 "cells": [
  {
   "cell_type": "code",
   "execution_count": null,
   "metadata": {},
   "outputs": [],
   "source": [
    "import numpy as np\n",
    "import pandas as pd\n",
    "import math\n",
    "import scipy.stats as stats\n",
    "import statsmodels\n",
    "import statistics\n",
    "import os\n",
    "import matplotlib.pyplot as plt"
   ]
  },
  {
   "cell_type": "code",
   "execution_count": null,
   "metadata": {},
   "outputs": [],
   "source": [
    "df = pd.read_csv(\"C:/Users/saketh/stuff/Medlytics/Week2Public/Pulse_data/Pulse/YerielMaldonadoHeartbeat.csv\")\n",
    "ppg_info = df.loc[0:5, ]\n",
    "ppg = df.values[6:6007, 1].astype(np.float64)"
   ]
  },
  {
   "cell_type": "code",
   "execution_count": null,
   "metadata": {},
   "outputs": [],
   "source": [
    "files = list(os.walk(\"C:/Users/saketh/stuff/Medlytics/Week2Public/Pulse_data/Pulse\"))[0][2]\n",
    "print(files)\n",
    "def get_heartrate_fft(ppg_csv_filename):\n",
    "    df1 = pd.read_csv(ppg_csv_filename)\n",
    "    ppg_info1 = df.loc[0:5, ]\n",
    "    ppg1 = df1.values[6:6007, 1].astype(np.float64)\n",
    "    fs = 50\n",
    "    NFFT = len(ppg1)\n",
    "    sp = np.fft.fft(ppg1 - np.mean(ppg1),NFFT)/ppg1.shape[0]\n",
    "    t = np.arange(NFFT)\n",
    "    freq = fs*np.fft.fftfreq(t.shape[-1])\n",
    "    return(freq[np.argmax(abs(sp))]*60)"
   ]
  },
  {
   "cell_type": "code",
   "execution_count": null,
   "metadata": {},
   "outputs": [],
   "source": [
    "fs = 50\n",
    "NFFT = 6002\n",
    "sp = np.fft.fft(ppg - np.mean(ppg),NFFT)/ppg.shape[0]\n",
    "t = np.arange(NFFT)\n",
    "freq = fs*np.fft.fftfreq(t.shape[-1])\n",
    "plt.plot(freq, abs(sp))\n",
    "plt.xlim([0, 10])\n",
    "plt.show()"
   ]
  },
  {
   "cell_type": "code",
   "execution_count": null,
   "metadata": {},
   "outputs": [],
   "source": [
    "freq[np.argmax(abs(sp))]*60"
   ]
  },
  {
   "cell_type": "code",
   "execution_count": null,
   "metadata": {},
   "outputs": [],
   "source": [
    "heartrates = []\n",
    "for file in files:\n",
    "    heartrates.append(get_heartrate_fft(r\"C:/Users/saketh/stuff/Medlytics/Week2Public/Pulse_data/Pulse/\" + file))\n",
    "heartrates"
   ]
  },
  {
   "cell_type": "code",
   "execution_count": null,
   "metadata": {},
   "outputs": [],
   "source": [
    "from scipy.signal import find_peaks\n",
    "\n",
    "peaks, _ = find_peaks(ppg, height=np.mean(ppg) + 40, prominence = 20)\n",
    "plt.figure(1, figsize=(36, 12))\n",
    "plt.plot(ppg[0:1000])\n",
    "plt.plot(peaks, ppg[peaks], \"x\")\n",
    "plt.plot(np.zeros_like(ppg), \"--\", color=\"gray\")\n",
    "plt.xlim(0, 300)\n",
    "plt.show()"
   ]
  },
  {
   "cell_type": "code",
   "execution_count": null,
   "metadata": {},
   "outputs": [],
   "source": [
    "hr = len(peaks)/2\n",
    "hr"
   ]
  },
  {
   "cell_type": "code",
   "execution_count": null,
   "metadata": {},
   "outputs": [],
   "source": []
  }
 ],
 "metadata": {
  "kernelspec": {
   "display_name": "Python 3",
   "language": "python",
   "name": "python3"
  },
  "language_info": {
   "codemirror_mode": {
    "name": "ipython",
    "version": 3
   },
   "file_extension": ".py",
   "mimetype": "text/x-python",
   "name": "python",
   "nbconvert_exporter": "python",
   "pygments_lexer": "ipython3",
   "version": "3.7.3"
  }
 },
 "nbformat": 4,
 "nbformat_minor": 2
}
