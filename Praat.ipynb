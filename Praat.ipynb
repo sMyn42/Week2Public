{
 "cells": [
  {
   "cell_type": "code",
   "execution_count": null,
   "metadata": {},
   "outputs": [],
   "source": [
    "!pip install praat-parselmouth"
   ]
  },
  {
   "cell_type": "code",
   "execution_count": null,
   "metadata": {},
   "outputs": [],
   "source": [
    "import parselmouth as pm\n",
    "import os\n",
    "import numpy as np\n",
    "import matplotlib.pyplot as plt\n",
    "import pandas as pd"
   ]
  },
  {
   "cell_type": "markdown",
   "metadata": {},
   "source": [
    "Praat is a software package written in C and C++ that implements many speech analysis algorithms in an easy-to-use interface. We're going to be using the parselmouth package, a Python wrapper for Praat functions. Documentation is sparse for the library, but exploring the [documentation](https://parselmouth.readthedocs.io/en/stable/installation.html) might be helpful to find new functions. "
   ]
  },
  {
   "cell_type": "code",
   "execution_count": null,
   "metadata": {},
   "outputs": [],
   "source": [
    "Harris = pm.Sound(r\"C:\\Users\\saketh\\stuff\\Medlytics\\Week2Public\\Speech\\Medlytics Voice Data\\DOSM_1_0125Mariela.wav\")\n",
    "type(Harris)"
   ]
  },
  {
   "cell_type": "markdown",
   "metadata": {},
   "source": [
    "We've imported Harris's voice as a parselmouth.Sound object. This is parselmouth's version of his voice, and has a huge number of features that can be found on the [documentation](https://parselmouth.readthedocs.io/en/stable/api_reference.html#parselmouth.Sound). The only problem with the documentation is that it doesn't exist. This library is abysmally documented. But that's ok, I can show you how to get what you need from it. "
   ]
  },
  {
   "cell_type": "code",
   "execution_count": null,
   "metadata": {},
   "outputs": [],
   "source": [
    "hInt = Harris.to_intensity()\n",
    "hPit = Harris.to_pitch()\n",
    "hForm = Harris.to_formant_burg()"
   ]
  },
  {
   "cell_type": "code",
   "execution_count": null,
   "metadata": {},
   "outputs": [],
   "source": [
    "hInt"
   ]
  },
  {
   "cell_type": "code",
   "execution_count": null,
   "metadata": {},
   "outputs": [],
   "source": [
    "intensities = []\n",
    "for val in hInt.t_grid():\n",
    "    intensities.append(hInt.get_value(val))\n",
    "plt.plot(intensities[:100])"
   ]
  },
  {
   "cell_type": "code",
   "execution_count": null,
   "metadata": {},
   "outputs": [],
   "source": [
    "pitches = []\n",
    "for val in hPit.t_grid():\n",
    "    pitches.append(hPit.get_value_at_time(val))\n",
    "pitches_data = pd.DataFrame(pitches)\n",
    "pitches_data.dropna(inplace=True)\n",
    "plt.figure(1, figsize=(72, 36))"
   ]
  },
  {
   "cell_type": "markdown",
   "metadata": {},
   "source": [
    "The .t_grid() attribute shows a list of timesteps within the sound file. By iterating over this list of times, we can pull every value from the Sound object and add it to a new list, like we're doing below. This can be done for any of the features. "
   ]
  },
  {
   "cell_type": "code",
   "execution_count": null,
   "metadata": {},
   "outputs": [],
   "source": [
    "formants = [[],[],[]]\n",
    "for val in hForm.t_grid():\n",
    "    formants[0].append(hForm.get_value_at_time(1,val))\n",
    "    formants[1].append(hForm.get_value_at_time(2,val))\n",
    "    formants[2].append(hForm.get_value_at_time(3,val))\n",
    "    "
   ]
  },
  {
   "cell_type": "code",
   "execution_count": null,
   "metadata": {},
   "outputs": [],
   "source": [
    "plt.plot(formants[0][0:100])\n",
    "plt.plot(formants[1][0:100])\n",
    "plt.plot(formants[2][0:100])"
   ]
  },
  {
   "cell_type": "code",
   "execution_count": null,
   "metadata": {},
   "outputs": [],
   "source": []
  }
 ],
 "metadata": {
  "kernelspec": {
   "display_name": "Python 3",
   "language": "python",
   "name": "python3"
  },
  "language_info": {
   "codemirror_mode": {
    "name": "ipython",
    "version": 3
   },
   "file_extension": ".py",
   "mimetype": "text/x-python",
   "name": "python",
   "nbconvert_exporter": "python",
   "pygments_lexer": "ipython3",
   "version": "3.7.3"
  }
 },
 "nbformat": 4,
 "nbformat_minor": 2
}
